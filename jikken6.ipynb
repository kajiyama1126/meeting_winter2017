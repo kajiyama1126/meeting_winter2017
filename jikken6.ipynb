{
 "cells": [
  {
   "cell_type": "code",
   "execution_count": 1,
   "metadata": {
    "collapsed": true
   },
   "outputs": [
    {
     "name": "stdout",
     "output_type": "stream",
     "text": [
      "a\n"
     ]
    }
   ],
   "source": [
    "print('a')\n"
   ]
  },
  {
   "cell_type": "code",
   "execution_count": 3,
   "metadata": {},
   "outputs": [
    {
     "name": "stdout",
     "output_type": "stream",
     "text": [
      "7\n"
     ]
    }
   ],
   "source": [
    "a = 3\n",
    "b=4\n",
    "print(a+b)"
   ]
  },
  {
   "cell_type": "code",
   "execution_count": 4,
   "metadata": {},
   "outputs": [
    {
     "name": "stdout",
     "output_type": "stream",
     "text": [
      "12\n"
     ]
    }
   ],
   "source": [
    "print(a*b)"
   ]
  },
  {
   "cell_type": "code",
   "execution_count": 10,
   "metadata": {},
   "outputs": [
    {
     "name": "stdout",
     "output_type": "stream",
     "text": [
      "x\n"
     ]
    }
   ],
   "source": [
    "from sympy import Symbol\n",
    "x = Symbol('x')\n",
    "print(x)\n"
   ]
  },
  {
   "cell_type": "code",
   "execution_count": 9,
   "metadata": {},
   "outputs": [
    {
     "name": "stdout",
     "output_type": "stream",
     "text": [
      "x**2\n"
     ]
    }
   ],
   "source": [
    "print(x**2)"
   ]
  },
  {
   "cell_type": "code",
   "execution_count": 11,
   "metadata": {},
   "outputs": [],
   "source": [
    "from sympy.interactive import printing \n",
    "printing.init_printing(use_latex='mathjax')"
   ]
  },
  {
   "cell_type": "code",
   "execution_count": 14,
   "metadata": {
    "collapsed": false
   },
   "outputs": [
    {
     "data": {
      "text/latex": [
       "$$x^{2}$$"
      ],
      "text/plain": [
       " 2\nx "
      ]
     },
     "metadata": {},
     "output_type": "display_data"
    }
   ],
   "source": [
    "x**2"
   ]
  },
  {
   "cell_type": "code",
   "execution_count": 17,
   "metadata": {},
   "outputs": [],
   "source": [
    "from sympy import symbols\n",
    "z = Symbol('zeta')\n",
    "s = Symbol('sigma')\n",
    "a,e,b = symbols('alpha eta beta')"
   ]
  },
  {
   "cell_type": "code",
   "execution_count": 21,
   "metadata": {},
   "outputs": [],
   "source": [
    "d ,w = symbols('d w')"
   ]
  },
  {
   "cell_type": "code",
   "execution_count": 23,
   "metadata": {},
   "outputs": [],
   "source": [
    "P_0 = (z-s-e*b)*(z-s)-e*b*(e*b + 2*d*w)\n",
    "P = P_0*(z-(1-a*e))-e**3 * b**3"
   ]
  },
  {
   "cell_type": "code",
   "execution_count": 22,
   "metadata": {},
   "outputs": [
    {
     "name": "stdout",
     "output_type": "stream",
     "text": [
      "-beta*eta*(beta*eta + 2*d*w) + (-sigma + zeta)*(-beta*eta - sigma + zeta) -beta**3*eta**3 + (-beta*eta*(beta*eta + 2*d*w) + (-sigma + zeta)*(-beta*eta - sigma + zeta))*(alpha*eta + zeta - 1)\n"
     ]
    }
   ],
   "source": [
    "print(P_0,P)"
   ]
  },
  {
   "cell_type": "code",
   "execution_count": 24,
   "metadata": {},
   "outputs": [
    {
     "name": "stdout",
     "output_type": "stream",
     "text": [
      "-beta**3*eta**3 + (-beta*eta*(beta*eta + 2*d*w) + (-sigma + zeta)*(-beta*eta - sigma + zeta))*(alpha*eta + zeta - 1)\n"
     ]
    }
   ],
   "source": [
    "print(P)"
   ]
  },
  {
   "cell_type": "code",
   "execution_count": 26,
   "metadata": {},
   "outputs": [
    {
     "name": "stdout",
     "output_type": "stream",
     "text": [
      "-alpha*beta**2*eta**3 - 2*alpha*beta*d*eta**2*w + alpha*beta*eta**2*sigma - alpha*beta*eta**2*zeta + alpha*eta*sigma**2 - 2*alpha*eta*sigma*zeta + alpha*eta*zeta**2 - beta**3*eta**3 - beta**2*eta**2*zeta + beta**2*eta**2 - 2*beta*d*eta*w*zeta + 2*beta*d*eta*w + beta*eta*sigma*zeta - beta*eta*sigma - beta*eta*zeta**2 + beta*eta*zeta + sigma**2*zeta - sigma**2 - 2*sigma*zeta**2 + 2*sigma*zeta + zeta**3 - zeta**2\n"
     ]
    }
   ],
   "source": [
    "from sympy import *\n",
    "print(expand(P))"
   ]
  },
  {
   "cell_type": "code",
   "execution_count": 27,
   "metadata": {},
   "outputs": [],
   "source": [
    "P_sim = simplify(expand(P))"
   ]
  },
  {
   "cell_type": "code",
   "execution_count": 28,
   "metadata": {},
   "outputs": [
    {
     "name": "stdout",
     "output_type": "stream",
     "text": [
      "-alpha*beta**2*eta**3 - 2*alpha*beta*d*eta**2*w + alpha*beta*eta**2*sigma - alpha*beta*eta**2*zeta + alpha*eta*sigma**2 - 2*alpha*eta*sigma*zeta + alpha*eta*zeta**2 - beta**3*eta**3 - beta**2*eta**2*zeta + beta**2*eta**2 - 2*beta*d*eta*w*zeta + 2*beta*d*eta*w + beta*eta*sigma*zeta - beta*eta*sigma - beta*eta*zeta**2 + beta*eta*zeta + sigma**2*zeta - sigma**2 - 2*sigma*zeta**2 + 2*sigma*zeta + zeta**3 - zeta**2\n"
     ]
    }
   ],
   "source": [
    "print(P_sim)"
   ]
  },
  {
   "cell_type": "code",
   "execution_count": 73,
   "metadata": {
    "collapsed": false
   },
   "outputs": [
    {
     "data": {
      "text/latex": [
       "$$- \\alpha \\beta^{2} \\eta^{3} - 2 \\alpha \\beta d \\eta^{2} w + \\alpha \\beta \\eta^{2} \\sigma - \\alpha \\beta \\eta^{2} \\zeta + \\alpha \\eta \\sigma^{2} - 2 \\alpha \\eta \\sigma \\zeta + \\alpha \\eta \\zeta^{2} - \\beta^{3} \\eta^{3} - \\beta^{2} \\eta^{2} \\zeta + \\beta^{2} \\eta^{2} - 2 \\beta d \\eta w \\zeta + 2 \\beta d \\eta w + \\beta \\eta \\sigma \\zeta - \\beta \\eta \\sigma - \\beta \\eta \\zeta^{2} + \\beta \\eta \\zeta + \\sigma^{2} \\zeta - \\sigma^{2} - 2 \\sigma \\zeta^{2} + 2 \\sigma \\zeta + \\zeta^{3} - \\zeta^{2}$$"
      ],
      "text/plain": [
       "     2  3            2          2          2          2                    2  \n- α⋅β ⋅η  - 2⋅α⋅β⋅d⋅η ⋅w + α⋅β⋅η ⋅σ - α⋅β⋅η ⋅ζ + α⋅η⋅σ  - 2⋅α⋅η⋅σ⋅ζ + α⋅η⋅ζ  -\n\n  3  3    2  2      2  2                                                    2 \n β ⋅η  - β ⋅η ⋅ζ + β ⋅η  - 2⋅β⋅d⋅η⋅w⋅ζ + 2⋅β⋅d⋅η⋅w + β⋅η⋅σ⋅ζ - β⋅η⋅σ - β⋅η⋅ζ  \n\n           2      2        2            3    2\n+ β⋅η⋅ζ + σ ⋅ζ - σ  - 2⋅σ⋅ζ  + 2⋅σ⋅ζ + ζ  - ζ "
      ]
     },
     "metadata": {},
     "output_type": "display_data"
    }
   ],
   "source": [
    "init_printing()\n",
    "P_sim"
   ]
  },
  {
   "cell_type": "code",
   "execution_count": 92,
   "metadata": {
    "collapsed": false
   },
   "outputs": [
    {
     "data": {
      "text/latex": [
       "$$- \\alpha \\beta^{2} \\eta^{3} - 2 \\alpha \\beta d \\eta^{2} w + \\alpha \\beta \\eta^{2} \\sigma + \\alpha \\eta \\sigma^{2} - \\beta^{3} \\eta^{3} + \\beta^{2} \\eta^{2} + 2 \\beta d \\eta w - \\beta \\eta \\sigma - \\sigma^{2} + \\zeta^{3} + \\zeta^{2} \\left(\\alpha \\eta - \\beta \\eta - 2 \\sigma - 1\\right) + \\zeta \\left(- \\alpha \\beta \\eta^{2} - 2 \\alpha \\eta \\sigma - \\beta^{2} \\eta^{2} - 2 \\beta d \\eta w + \\beta \\eta \\sigma + \\beta \\eta + \\sigma^{2} + 2 \\sigma\\right)$$"
      ],
      "text/plain": [
       "     2  3            2          2          2    3  3    2  2                  \n- α⋅β ⋅η  - 2⋅α⋅β⋅d⋅η ⋅w + α⋅β⋅η ⋅σ + α⋅η⋅σ  - β ⋅η  + β ⋅η  + 2⋅β⋅d⋅η⋅w - β⋅η\n\n      2    3    2                           ⎛       2              2  2       \n⋅σ - σ  + ζ  + ζ ⋅(α⋅η - β⋅η - 2⋅σ - 1) + ζ⋅⎝- α⋅β⋅η  - 2⋅α⋅η⋅σ - β ⋅η  - 2⋅β⋅\n\n                       2      ⎞\nd⋅η⋅w + β⋅η⋅σ + β⋅η + σ  + 2⋅σ⎠"
      ]
     },
     "metadata": {},
     "output_type": "display_data"
    }
   ],
   "source": [
    "collect(P_sim,z)"
   ]
  },
  {
   "cell_type": "code",
   "execution_count": 42,
   "metadata": {},
   "outputs": [],
   "source": [
    "init_printing()\n",
    "a_1 = 1\n",
    "a_2 = a*e-b*e-2*s-1\n",
    "a_3 = -a*b*e**2-2*a*e*s-b**2 * e**2-2*b*d*e*w+b*e*s+b*e+s**2+2*s\n",
    "a_4 = -a*b**2*e**3 -2*a*b*d*e**2*w + a*b* e**2 *s +a*e*s**2-b**3*e**3+b**2*e**2 + 2* b*d*e*w-b*e*s-s**2"
   ]
  },
  {
   "cell_type": "code",
   "execution_count": 43,
   "metadata": {},
   "outputs": [],
   "source": [
    "D = -4*a_1*a_3**3-27*a_1**2*a_4**2 + a_2**2*a_3**2 + 18*a_1*a_2*a_3*a_4 -4*a_2**3*a_4"
   ]
  },
  {
   "cell_type": "code",
   "execution_count": 75,
   "metadata": {},
   "outputs": [
    {
     "name": "stdout",
     "output_type": "stream",
     "text": [
      "-4*(alpha*eta - beta*eta - 2*sigma - 1)**3*(-alpha*beta**2*eta**3 - 2*alpha*beta*d*eta**2*w + alpha*beta*eta**2*sigma + alpha*eta*sigma**2 - beta**3*eta**3 + beta**2*eta**2 + 2*beta*d*eta*w - beta*eta*sigma - sigma**2) + (alpha*eta - beta*eta - 2*sigma - 1)**2*(-alpha*beta*eta**2 - 2*alpha*eta*sigma - beta**2*eta**2 - 2*beta*d*eta*w + beta*eta*sigma + beta*eta + sigma**2 + 2*sigma)**2 + (18*alpha*eta - 18*beta*eta - 36*sigma - 18)*(-alpha*beta*eta**2 - 2*alpha*eta*sigma - beta**2*eta**2 - 2*beta*d*eta*w + beta*eta*sigma + beta*eta + sigma**2 + 2*sigma)*(-alpha*beta**2*eta**3 - 2*alpha*beta*d*eta**2*w + alpha*beta*eta**2*sigma + alpha*eta*sigma**2 - beta**3*eta**3 + beta**2*eta**2 + 2*beta*d*eta*w - beta*eta*sigma - sigma**2) - 4*(-alpha*beta*eta**2 - 2*alpha*eta*sigma - beta**2*eta**2 - 2*beta*d*eta*w + beta*eta*sigma + beta*eta + sigma**2 + 2*sigma)**3 - 27*(-alpha*beta**2*eta**3 - 2*alpha*beta*d*eta**2*w + alpha*beta*eta**2*sigma + alpha*eta*sigma**2 - beta**3*eta**3 + beta**2*eta**2 + 2*beta*d*eta*w - beta*eta*sigma - sigma**2)**2\n"
     ]
    },
    {
     "data": {
      "text/latex": [
       "$$- 4 \\left(\\alpha \\eta - \\beta \\eta - 2 \\sigma - 1\\right)^{3} \\left(- \\alpha \\beta^{2} \\eta^{3} - 2 \\alpha \\beta d \\eta^{2} w + \\alpha \\beta \\eta^{2} \\sigma + \\alpha \\eta \\sigma^{2} - \\beta^{3} \\eta^{3} + \\beta^{2} \\eta^{2} + 2 \\beta d \\eta w - \\beta \\eta \\sigma - \\sigma^{2}\\right) + \\left(\\alpha \\eta - \\beta \\eta - 2 \\sigma - 1\\right)^{2} \\left(- \\alpha \\beta \\eta^{2} - 2 \\alpha \\eta \\sigma - \\beta^{2} \\eta^{2} - 2 \\beta d \\eta w + \\beta \\eta \\sigma + \\beta \\eta + \\sigma^{2} + 2 \\sigma\\right)^{2} + \\left(18 \\alpha \\eta - 18 \\beta \\eta - 36 \\sigma - 18\\right) \\left(- \\alpha \\beta \\eta^{2} - 2 \\alpha \\eta \\sigma - \\beta^{2} \\eta^{2} - 2 \\beta d \\eta w + \\beta \\eta \\sigma + \\beta \\eta + \\sigma^{2} + 2 \\sigma\\right) \\left(- \\alpha \\beta^{2} \\eta^{3} - 2 \\alpha \\beta d \\eta^{2} w + \\alpha \\beta \\eta^{2} \\sigma + \\alpha \\eta \\sigma^{2} - \\beta^{3} \\eta^{3} + \\beta^{2} \\eta^{2} + 2 \\beta d \\eta w - \\beta \\eta \\sigma - \\sigma^{2}\\right) - 4 \\left(- \\alpha \\beta \\eta^{2} - 2 \\alpha \\eta \\sigma - \\beta^{2} \\eta^{2} - 2 \\beta d \\eta w + \\beta \\eta \\sigma + \\beta \\eta + \\sigma^{2} + 2 \\sigma\\right)^{3} - 27 \\left(- \\alpha \\beta^{2} \\eta^{3} - 2 \\alpha \\beta d \\eta^{2} w + \\alpha \\beta \\eta^{2} \\sigma + \\alpha \\eta \\sigma^{2} - \\beta^{3} \\eta^{3} + \\beta^{2} \\eta^{2} + 2 \\beta d \\eta w - \\beta \\eta \\sigma - \\sigma^{2}\\right)^{2}$$"
      ],
      "text/plain": [
       "                                                                              \n                         3 ⎛     2  3            2          2          2    3 \n- 4⋅(α⋅η - β⋅η - 2⋅σ - 1) ⋅⎝- α⋅β ⋅η  - 2⋅α⋅β⋅d⋅η ⋅w + α⋅β⋅η ⋅σ + α⋅η⋅σ  - β ⋅\n\n                                                                              \n 3    2  2                        2⎞                        2 ⎛       2       \nη  + β ⋅η  + 2⋅β⋅d⋅η⋅w - β⋅η⋅σ - σ ⎠ + (α⋅η - β⋅η - 2⋅σ - 1) ⋅⎝- α⋅β⋅η  - 2⋅α⋅\n\n                                                 2                            \n       2  2                              2      ⎞                             \nη⋅σ - β ⋅η  - 2⋅β⋅d⋅η⋅w + β⋅η⋅σ + β⋅η + σ  + 2⋅σ⎠  + (18⋅α⋅η - 18⋅β⋅η - 36⋅σ -\n\n                                                                              \n     ⎛       2              2  2                              2      ⎞ ⎛     2\n 18)⋅⎝- α⋅β⋅η  - 2⋅α⋅η⋅σ - β ⋅η  - 2⋅β⋅d⋅η⋅w + β⋅η⋅σ + β⋅η + σ  + 2⋅σ⎠⋅⎝- α⋅β \n\n                                                                              \n  3            2          2          2    3  3    2  2                        \n⋅η  - 2⋅α⋅β⋅d⋅η ⋅w + α⋅β⋅η ⋅σ + α⋅η⋅σ  - β ⋅η  + β ⋅η  + 2⋅β⋅d⋅η⋅w - β⋅η⋅σ - σ\n\n                                                                        3     \n2⎞     ⎛       2              2  2                              2      ⎞      \n ⎠ - 4⋅⎝- α⋅β⋅η  - 2⋅α⋅η⋅σ - β ⋅η  - 2⋅β⋅d⋅η⋅w + β⋅η⋅σ + β⋅η + σ  + 2⋅σ⎠  - 27\n\n                                                                              \n ⎛     2  3            2          2          2    3  3    2  2                \n⋅⎝- α⋅β ⋅η  - 2⋅α⋅β⋅d⋅η ⋅w + α⋅β⋅η ⋅σ + α⋅η⋅σ  - β ⋅η  + β ⋅η  + 2⋅β⋅d⋅η⋅w - β\n\n          2\n        2⎞ \n⋅η⋅σ - σ ⎠ "
      ]
     },
     "metadata": {},
     "output_type": "display_data"
    }
   ],
   "source": [
    "print(D)\n",
    "D"
   ]
  },
  {
   "cell_type": "code",
   "execution_count": 76,
   "metadata": {},
   "outputs": [
    {
     "data": {
      "text/latex": [
       "$$4 \\left(- \\alpha \\eta + \\beta \\eta + 2 \\sigma + 1\\right)^{3} \\left(- \\alpha \\beta^{2} \\eta^{3} - 2 \\alpha \\beta d \\eta^{2} w + \\alpha \\beta \\eta^{2} \\sigma + \\alpha \\eta \\sigma^{2} - \\beta^{3} \\eta^{3} + \\beta^{2} \\eta^{2} + 2 \\beta d \\eta w - \\beta \\eta \\sigma - \\sigma^{2}\\right) + \\left(- \\alpha \\eta + \\beta \\eta + 2 \\sigma + 1\\right)^{2} \\left(\\alpha \\beta \\eta^{2} + 2 \\alpha \\eta \\sigma + \\beta^{2} \\eta^{2} + 2 \\beta d \\eta w - \\beta \\eta \\sigma - \\beta \\eta - \\sigma^{2} - 2 \\sigma\\right)^{2} - 18 \\left(- \\alpha \\eta + \\beta \\eta + 2 \\sigma + 1\\right) \\left(\\alpha \\beta \\eta^{2} + 2 \\alpha \\eta \\sigma + \\beta^{2} \\eta^{2} + 2 \\beta d \\eta w - \\beta \\eta \\sigma - \\beta \\eta - \\sigma^{2} - 2 \\sigma\\right) \\left(\\alpha \\beta^{2} \\eta^{3} + 2 \\alpha \\beta d \\eta^{2} w - \\alpha \\beta \\eta^{2} \\sigma - \\alpha \\eta \\sigma^{2} + \\beta^{3} \\eta^{3} - \\beta^{2} \\eta^{2} - 2 \\beta d \\eta w + \\beta \\eta \\sigma + \\sigma^{2}\\right) + 4 \\left(\\alpha \\beta \\eta^{2} + 2 \\alpha \\eta \\sigma + \\beta^{2} \\eta^{2} + 2 \\beta d \\eta w - \\beta \\eta \\sigma - \\beta \\eta - \\sigma^{2} - 2 \\sigma\\right)^{3} - 27 \\left(\\alpha \\beta^{2} \\eta^{3} + 2 \\alpha \\beta d \\eta^{2} w - \\alpha \\beta \\eta^{2} \\sigma - \\alpha \\eta \\sigma^{2} + \\beta^{3} \\eta^{3} - \\beta^{2} \\eta^{2} - 2 \\beta d \\eta w + \\beta \\eta \\sigma + \\sigma^{2}\\right)^{2}$$"
      ],
      "text/plain": [
       "                                                                              \n                        3 ⎛     2  3            2          2          2    3  \n4⋅(-α⋅η + β⋅η + 2⋅σ + 1) ⋅⎝- α⋅β ⋅η  - 2⋅α⋅β⋅d⋅η ⋅w + α⋅β⋅η ⋅σ + α⋅η⋅σ  - β ⋅η\n\n                                                                              \n3    2  2                        2⎞                         2 ⎛     2         \n  + β ⋅η  + 2⋅β⋅d⋅η⋅w - β⋅η⋅σ - σ ⎠ + (-α⋅η + β⋅η + 2⋅σ + 1) ⋅⎝α⋅β⋅η  + 2⋅α⋅η⋅\n\n                                               2                              \n     2  2                              2      ⎞                              ⎛\nσ + β ⋅η  + 2⋅β⋅d⋅η⋅w - β⋅η⋅σ - β⋅η - σ  - 2⋅σ⎠  - 18⋅(-α⋅η + β⋅η + 2⋅σ + 1)⋅⎝\n\n                                                                              \n     2              2  2                              2      ⎞ ⎛   2  3       \nα⋅β⋅η  + 2⋅α⋅η⋅σ + β ⋅η  + 2⋅β⋅d⋅η⋅w - β⋅η⋅σ - β⋅η - σ  - 2⋅σ⎠⋅⎝α⋅β ⋅η  + 2⋅α⋅\n\n                                                                              \n     2          2          2    3  3    2  2                        2⎞     ⎛  \nβ⋅d⋅η ⋅w - α⋅β⋅η ⋅σ - α⋅η⋅σ  + β ⋅η  - β ⋅η  - 2⋅β⋅d⋅η⋅w + β⋅η⋅σ + σ ⎠ + 4⋅⎝α⋅\n\n                                                            3                 \n   2              2  2                              2      ⎞       ⎛   2  3   \nβ⋅η  + 2⋅α⋅η⋅σ + β ⋅η  + 2⋅β⋅d⋅η⋅w - β⋅η⋅σ - β⋅η - σ  - 2⋅σ⎠  - 27⋅⎝α⋅β ⋅η  + \n\n                                                                          2\n         2          2          2    3  3    2  2                        2⎞ \n2⋅α⋅β⋅d⋅η ⋅w - α⋅β⋅η ⋅σ - α⋅η⋅σ  + β ⋅η  - β ⋅η  - 2⋅β⋅d⋅η⋅w + β⋅η⋅σ + σ ⎠ "
      ]
     },
     "metadata": {},
     "output_type": "display_data"
    }
   ],
   "source": [
    "simplify(D)"
   ]
  },
  {
   "cell_type": "code",
   "execution_count": 77,
   "metadata": {
    "collapsed": true
   },
   "outputs": [
    {
     "data": {
      "text/latex": [
       "$$\\beta \\eta \\left(5 \\alpha^{4} \\beta \\eta^{5} + 8 \\alpha^{4} d \\eta^{4} w + 14 \\alpha^{3} \\beta^{2} \\eta^{5} + 16 \\alpha^{3} \\beta d \\eta^{4} w + 20 \\alpha^{3} \\beta \\eta^{4} \\sigma - 20 \\alpha^{3} \\beta \\eta^{4} + 32 \\alpha^{3} d \\eta^{3} \\sigma w - 32 \\alpha^{3} d \\eta^{3} w + \\alpha^{2} \\beta^{3} \\eta^{5} - 28 \\alpha^{2} \\beta^{2} d \\eta^{4} w + 42 \\alpha^{2} \\beta^{2} \\eta^{4} \\sigma - 42 \\alpha^{2} \\beta^{2} \\eta^{4} - 32 \\alpha^{2} \\beta d^{2} \\eta^{3} w^{2} + 48 \\alpha^{2} \\beta d \\eta^{3} \\sigma w - 48 \\alpha^{2} \\beta d \\eta^{3} w + 30 \\alpha^{2} \\beta \\eta^{3} \\sigma^{2} - 60 \\alpha^{2} \\beta \\eta^{3} \\sigma + 30 \\alpha^{2} \\beta \\eta^{3} + 48 \\alpha^{2} d \\eta^{2} \\sigma^{2} w - 96 \\alpha^{2} d \\eta^{2} \\sigma w + 48 \\alpha^{2} d \\eta^{2} w - 52 \\alpha \\beta^{4} \\eta^{5} - 108 \\alpha \\beta^{3} d \\eta^{4} w + 2 \\alpha \\beta^{3} \\eta^{4} \\sigma - 2 \\alpha \\beta^{3} \\eta^{4} - 32 \\alpha \\beta^{2} d^{2} \\eta^{3} w^{2} - 56 \\alpha \\beta^{2} d \\eta^{3} \\sigma w + 56 \\alpha \\beta^{2} d \\eta^{3} w + 42 \\alpha \\beta^{2} \\eta^{3} \\sigma^{2} - 84 \\alpha \\beta^{2} \\eta^{3} \\sigma + 42 \\alpha \\beta^{2} \\eta^{3} - 64 \\alpha \\beta d^{2} \\eta^{2} \\sigma w^{2} + 64 \\alpha \\beta d^{2} \\eta^{2} w^{2} + 48 \\alpha \\beta d \\eta^{2} \\sigma^{2} w - 96 \\alpha \\beta d \\eta^{2} \\sigma w + 48 \\alpha \\beta d \\eta^{2} w + 20 \\alpha \\beta \\eta^{2} \\sigma^{3} - 60 \\alpha \\beta \\eta^{2} \\sigma^{2} + 60 \\alpha \\beta \\eta^{2} \\sigma - 20 \\alpha \\beta \\eta^{2} + 32 \\alpha d \\eta \\sigma^{3} w - 96 \\alpha d \\eta \\sigma^{2} w + 96 \\alpha d \\eta \\sigma w - 32 \\alpha d \\eta w - 44 \\beta^{5} \\eta^{5} - 8 \\beta^{4} d \\eta^{4} w - 52 \\beta^{4} \\eta^{4} \\sigma + 52 \\beta^{4} \\eta^{4} + 52 \\beta^{3} d^{2} \\eta^{3} w^{2} - 108 \\beta^{3} d \\eta^{3} \\sigma w + 108 \\beta^{3} d \\eta^{3} w + \\beta^{3} \\eta^{3} \\sigma^{2} - 2 \\beta^{3} \\eta^{3} \\sigma + \\beta^{3} \\eta^{3} + 32 \\beta^{2} d^{3} \\eta^{2} w^{3} - 32 \\beta^{2} d^{2} \\eta^{2} \\sigma w^{2} + 32 \\beta^{2} d^{2} \\eta^{2} w^{2} - 28 \\beta^{2} d \\eta^{2} \\sigma^{2} w + 56 \\beta^{2} d \\eta^{2} \\sigma w - 28 \\beta^{2} d \\eta^{2} w + 14 \\beta^{2} \\eta^{2} \\sigma^{3} - 42 \\beta^{2} \\eta^{2} \\sigma^{2} + 42 \\beta^{2} \\eta^{2} \\sigma - 14 \\beta^{2} \\eta^{2} - 32 \\beta d^{2} \\eta \\sigma^{2} w^{2} + 64 \\beta d^{2} \\eta \\sigma w^{2} - 32 \\beta d^{2} \\eta w^{2} + 16 \\beta d \\eta \\sigma^{3} w - 48 \\beta d \\eta \\sigma^{2} w + 48 \\beta d \\eta \\sigma w - 16 \\beta d \\eta w + 5 \\beta \\eta \\sigma^{4} - 20 \\beta \\eta \\sigma^{3} + 30 \\beta \\eta \\sigma^{2} - 20 \\beta \\eta \\sigma + 5 \\beta \\eta + 8 d \\sigma^{4} w - 32 d \\sigma^{3} w + 48 d \\sigma^{2} w - 32 d \\sigma w + 8 d w\\right)$$"
      ],
      "text/plain": [
       "    ⎛   4    5      4    4         3  2  5       3      4         3    4      \nβ⋅η⋅⎝5⋅α ⋅β⋅η  + 8⋅α ⋅d⋅η ⋅w + 14⋅α ⋅β ⋅η  + 16⋅α ⋅β⋅d⋅η ⋅w + 20⋅α ⋅β⋅η ⋅σ - 2\n\n   3    4       3    3           3    3      2  3  5       2  2    4         2\n0⋅α ⋅β⋅η  + 32⋅α ⋅d⋅η ⋅σ⋅w - 32⋅α ⋅d⋅η ⋅w + α ⋅β ⋅η  - 28⋅α ⋅β ⋅d⋅η ⋅w + 42⋅α \n\n  2  4         2  2  4       2    2  3  2       2      3           2      3   \n⋅β ⋅η ⋅σ - 42⋅α ⋅β ⋅η  - 32⋅α ⋅β⋅d ⋅η ⋅w  + 48⋅α ⋅β⋅d⋅η ⋅σ⋅w - 48⋅α ⋅β⋅d⋅η ⋅w \n\n      2    3  2       2    3         2    3       2    2  2         2    2    \n+ 30⋅α ⋅β⋅η ⋅σ  - 60⋅α ⋅β⋅η ⋅σ + 30⋅α ⋅β⋅η  + 48⋅α ⋅d⋅η ⋅σ ⋅w - 96⋅α ⋅d⋅η ⋅σ⋅w\n\n       2    2           4  5          3    4          3  4          3  4      \n + 48⋅α ⋅d⋅η ⋅w - 52⋅α⋅β ⋅η  - 108⋅α⋅β ⋅d⋅η ⋅w + 2⋅α⋅β ⋅η ⋅σ - 2⋅α⋅β ⋅η  - 32⋅\n\n   2  2  3  2         2    3             2    3           2  3  2         2  3\nα⋅β ⋅d ⋅η ⋅w  - 56⋅α⋅β ⋅d⋅η ⋅σ⋅w + 56⋅α⋅β ⋅d⋅η ⋅w + 42⋅α⋅β ⋅η ⋅σ  - 84⋅α⋅β ⋅η \n\n           2  3           2  2    2           2  2  2             2  2        \n⋅σ + 42⋅α⋅β ⋅η  - 64⋅α⋅β⋅d ⋅η ⋅σ⋅w  + 64⋅α⋅β⋅d ⋅η ⋅w  + 48⋅α⋅β⋅d⋅η ⋅σ ⋅w - 96⋅\n\n       2                 2             2  3           2  2           2        \nα⋅β⋅d⋅η ⋅σ⋅w + 48⋅α⋅β⋅d⋅η ⋅w + 20⋅α⋅β⋅η ⋅σ  - 60⋅α⋅β⋅η ⋅σ  + 60⋅α⋅β⋅η ⋅σ - 20⋅\n\n     2             3               2                                     5  5 \nα⋅β⋅η  + 32⋅α⋅d⋅η⋅σ ⋅w - 96⋅α⋅d⋅η⋅σ ⋅w + 96⋅α⋅d⋅η⋅σ⋅w - 32⋅α⋅d⋅η⋅w - 44⋅β ⋅η  \n\n     4    4         4  4         4  4       3  2  3  2        3    3          \n- 8⋅β ⋅d⋅η ⋅w - 52⋅β ⋅η ⋅σ + 52⋅β ⋅η  + 52⋅β ⋅d ⋅η ⋅w  - 108⋅β ⋅d⋅η ⋅σ⋅w + 108\n\n  3    3      3  3  2      3  3      3  3       2  3  2  3       2  2  2    2 \n⋅β ⋅d⋅η ⋅w + β ⋅η ⋅σ  - 2⋅β ⋅η ⋅σ + β ⋅η  + 32⋅β ⋅d ⋅η ⋅w  - 32⋅β ⋅d ⋅η ⋅σ⋅w  \n\n      2  2  2  2       2    2  2         2    2           2    2         2  2 \n+ 32⋅β ⋅d ⋅η ⋅w  - 28⋅β ⋅d⋅η ⋅σ ⋅w + 56⋅β ⋅d⋅η ⋅σ⋅w - 28⋅β ⋅d⋅η ⋅w + 14⋅β ⋅η ⋅\n\n 3       2  2  2       2  2         2  2         2    2  2         2      2   \nσ  - 42⋅β ⋅η ⋅σ  + 42⋅β ⋅η ⋅σ - 14⋅β ⋅η  - 32⋅β⋅d ⋅η⋅σ ⋅w  + 64⋅β⋅d ⋅η⋅σ⋅w  - \n\n      2    2             3               2                                    \n32⋅β⋅d ⋅η⋅w  + 16⋅β⋅d⋅η⋅σ ⋅w - 48⋅β⋅d⋅η⋅σ ⋅w + 48⋅β⋅d⋅η⋅σ⋅w - 16⋅β⋅d⋅η⋅w + 5⋅β\n\n    4           3           2                           4           3         \n⋅η⋅σ  - 20⋅β⋅η⋅σ  + 30⋅β⋅η⋅σ  - 20⋅β⋅η⋅σ + 5⋅β⋅η + 8⋅d⋅σ ⋅w - 32⋅d⋅σ ⋅w + 48⋅d\n\n  2                     ⎞\n⋅σ ⋅w - 32⋅d⋅σ⋅w + 8⋅d⋅w⎠"
      ]
     },
     "metadata": {},
     "output_type": "display_data"
    }
   ],
   "source": [
    "simplify(expand(D))"
   ]
  },
  {
   "cell_type": "code",
   "execution_count": 55,
   "metadata": {},
   "outputs": [],
   "source": [
    "n ,C = symbols('n C_e')\n",
    "D_1 = D.subs([(s,1-w/(4*n**2)),(e,a*w*C/(4*n**4 * b**2))])"
   ]
  },
  {
   "cell_type": "code",
   "execution_count": 81,
   "metadata": {},
   "outputs": [
    {
     "data": {
      "text/latex": [
       "$$- 4 \\left(\\frac{C_{e} \\alpha^{2} w}{4 \\beta^{2} n^{4}} - \\frac{C_{e} \\alpha w}{4 \\beta n^{4}} - 3 + \\frac{w}{2 n^{2}}\\right)^{3} \\left(- \\frac{C_{e}^{3} \\alpha^{4} w^{3}}{64 \\beta^{4} n^{12}} - \\frac{C_{e}^{3} \\alpha^{3} w^{3}}{64 \\beta^{3} n^{12}} - \\frac{C_{e}^{2} \\alpha^{3} d w^{3}}{8 \\beta^{3} n^{8}} + \\frac{C_{e}^{2} \\alpha^{3} w^{2}}{16 \\beta^{3} n^{8}} \\left(1 - \\frac{w}{4 n^{2}}\\right) + \\frac{C_{e}^{2} \\alpha^{2} w^{2}}{16 \\beta^{2} n^{8}} + \\frac{C_{e} \\alpha^{2} w}{4 \\beta^{2} n^{4}} \\left(1 - \\frac{w}{4 n^{2}}\\right)^{2} + \\frac{C_{e} \\alpha d w^{2}}{2 \\beta n^{4}} - \\frac{C_{e} \\alpha w}{4 \\beta n^{4}} \\left(1 - \\frac{w}{4 n^{2}}\\right) - \\left(1 - \\frac{w}{4 n^{2}}\\right)^{2}\\right) + \\left(\\frac{C_{e} \\alpha^{2} w}{4 \\beta^{2} n^{4}} - \\frac{C_{e} \\alpha w}{4 \\beta n^{4}} - 3 + \\frac{w}{2 n^{2}}\\right)^{2} \\left(- \\frac{C_{e}^{2} \\alpha^{3} w^{2}}{16 \\beta^{3} n^{8}} - \\frac{C_{e}^{2} \\alpha^{2} w^{2}}{16 \\beta^{2} n^{8}} - \\frac{C_{e} \\alpha^{2} w}{2 \\beta^{2} n^{4}} \\left(1 - \\frac{w}{4 n^{2}}\\right) - \\frac{C_{e} \\alpha d w^{2}}{2 \\beta n^{4}} + \\frac{C_{e} \\alpha w}{4 \\beta n^{4}} \\left(1 - \\frac{w}{4 n^{2}}\\right) + \\frac{C_{e} \\alpha w}{4 \\beta n^{4}} + \\left(1 - \\frac{w}{4 n^{2}}\\right)^{2} + 2 - \\frac{w}{2 n^{2}}\\right)^{2} + \\left(\\frac{9 C_{e} \\alpha^{2} w}{2 \\beta^{2} n^{4}} - \\frac{9 C_{e} \\alpha w}{2 \\beta n^{4}} - 54 + \\frac{9 w}{n^{2}}\\right) \\left(- \\frac{C_{e}^{2} \\alpha^{3} w^{2}}{16 \\beta^{3} n^{8}} - \\frac{C_{e}^{2} \\alpha^{2} w^{2}}{16 \\beta^{2} n^{8}} - \\frac{C_{e} \\alpha^{2} w}{2 \\beta^{2} n^{4}} \\left(1 - \\frac{w}{4 n^{2}}\\right) - \\frac{C_{e} \\alpha d w^{2}}{2 \\beta n^{4}} + \\frac{C_{e} \\alpha w}{4 \\beta n^{4}} \\left(1 - \\frac{w}{4 n^{2}}\\right) + \\frac{C_{e} \\alpha w}{4 \\beta n^{4}} + \\left(1 - \\frac{w}{4 n^{2}}\\right)^{2} + 2 - \\frac{w}{2 n^{2}}\\right) \\left(- \\frac{C_{e}^{3} \\alpha^{4} w^{3}}{64 \\beta^{4} n^{12}} - \\frac{C_{e}^{3} \\alpha^{3} w^{3}}{64 \\beta^{3} n^{12}} - \\frac{C_{e}^{2} \\alpha^{3} d w^{3}}{8 \\beta^{3} n^{8}} + \\frac{C_{e}^{2} \\alpha^{3} w^{2}}{16 \\beta^{3} n^{8}} \\left(1 - \\frac{w}{4 n^{2}}\\right) + \\frac{C_{e}^{2} \\alpha^{2} w^{2}}{16 \\beta^{2} n^{8}} + \\frac{C_{e} \\alpha^{2} w}{4 \\beta^{2} n^{4}} \\left(1 - \\frac{w}{4 n^{2}}\\right)^{2} + \\frac{C_{e} \\alpha d w^{2}}{2 \\beta n^{4}} - \\frac{C_{e} \\alpha w}{4 \\beta n^{4}} \\left(1 - \\frac{w}{4 n^{2}}\\right) - \\left(1 - \\frac{w}{4 n^{2}}\\right)^{2}\\right) - 4 \\left(- \\frac{C_{e}^{2} \\alpha^{3} w^{2}}{16 \\beta^{3} n^{8}} - \\frac{C_{e}^{2} \\alpha^{2} w^{2}}{16 \\beta^{2} n^{8}} - \\frac{C_{e} \\alpha^{2} w}{2 \\beta^{2} n^{4}} \\left(1 - \\frac{w}{4 n^{2}}\\right) - \\frac{C_{e} \\alpha d w^{2}}{2 \\beta n^{4}} + \\frac{C_{e} \\alpha w}{4 \\beta n^{4}} \\left(1 - \\frac{w}{4 n^{2}}\\right) + \\frac{C_{e} \\alpha w}{4 \\beta n^{4}} + \\left(1 - \\frac{w}{4 n^{2}}\\right)^{2} + 2 - \\frac{w}{2 n^{2}}\\right)^{3} - 27 \\left(- \\frac{C_{e}^{3} \\alpha^{4} w^{3}}{64 \\beta^{4} n^{12}} - \\frac{C_{e}^{3} \\alpha^{3} w^{3}}{64 \\beta^{3} n^{12}} - \\frac{C_{e}^{2} \\alpha^{3} d w^{3}}{8 \\beta^{3} n^{8}} + \\frac{C_{e}^{2} \\alpha^{3} w^{2}}{16 \\beta^{3} n^{8}} \\left(1 - \\frac{w}{4 n^{2}}\\right) + \\frac{C_{e}^{2} \\alpha^{2} w^{2}}{16 \\beta^{2} n^{8}} + \\frac{C_{e} \\alpha^{2} w}{4 \\beta^{2} n^{4}} \\left(1 - \\frac{w}{4 n^{2}}\\right)^{2} + \\frac{C_{e} \\alpha d w^{2}}{2 \\beta n^{4}} - \\frac{C_{e} \\alpha w}{4 \\beta n^{4}} \\left(1 - \\frac{w}{4 n^{2}}\\right) - \\left(1 - \\frac{w}{4 n^{2}}\\right)^{2}\\right)^{2}$$"
      ],
      "text/plain": [
       "                                                                              \n                                   ⎛                                          \n                                   ⎜                                          \n                                 3 ⎜                                        Cₑ\n    ⎛    2                      ⎞  ⎜    3  4  3     3  3  3     2  3    3     \n    ⎜Cₑ⋅α ⋅w   Cₑ⋅α⋅w        w  ⎟  ⎜  Cₑ ⋅α ⋅w    Cₑ ⋅α ⋅w    Cₑ ⋅α ⋅d⋅w      \n- 4⋅⎜─────── - ────── - 3 + ────⎟ ⋅⎜- ───────── - ───────── - ─────────── + ──\n    ⎜   2  4        4          2⎟  ⎜      4  12       3  12        3  8       \n    ⎝4⋅β ⋅n    4⋅β⋅n        2⋅n ⎠  ⎝  64⋅β ⋅n     64⋅β ⋅n       8⋅β ⋅n        \n\n                                                                              \n                                                   2                          \n2  3  2 ⎛     w  ⎞                   2   ⎛     w  ⎞                       ⎛   \n ⋅α ⋅w ⋅⎜1 - ────⎟               Cₑ⋅α ⋅w⋅⎜1 - ────⎟                Cₑ⋅α⋅w⋅⎜1 -\n        ⎜       2⎟     2  2  2           ⎜       2⎟            2          ⎜   \n        ⎝    4⋅n ⎠   Cₑ ⋅α ⋅w            ⎝    4⋅n ⎠    Cₑ⋅α⋅d⋅w           ⎝   \n────────────────── + ───────── + ─────────────────── + ───────── - ───────────\n        3  8              2  8            2  4                4               \n    16⋅β ⋅n           16⋅β ⋅n          4⋅β ⋅n            2⋅β⋅n           4⋅β⋅n\n\n                                                                              \n                    ⎞                                                         \n  w  ⎞              ⎟                                  ⎛                      \n ────⎟              ⎟                                2 ⎜                      \n    2⎟             2⎟   ⎛    2                      ⎞  ⎜    2  3  2     2  2  \n 4⋅n ⎠   ⎛     w  ⎞ ⎟   ⎜Cₑ⋅α ⋅w   Cₑ⋅α⋅w        w  ⎟  ⎜  Cₑ ⋅α ⋅w    Cₑ ⋅α ⋅w\n────── - ⎜1 - ────⎟ ⎟ + ⎜─────── - ────── - 3 + ────⎟ ⋅⎜- ───────── - ────────\n4        ⎜       2⎟ ⎟   ⎜   2  4        4          2⎟  ⎜       3  8        2  \n         ⎝    4⋅n ⎠ ⎠   ⎝4⋅β ⋅n    4⋅β⋅n        2⋅n ⎠  ⎝   16⋅β ⋅n     16⋅β ⋅n\n\n                                                                              \n                                                                              \n        2   ⎛     w  ⎞                      ⎛     w  ⎞                        \n    Cₑ⋅α ⋅w⋅⎜1 - ────⎟               Cₑ⋅α⋅w⋅⎜1 - ────⎟                        \n2           ⎜       2⎟           2          ⎜       2⎟                      2 \n            ⎝    4⋅n ⎠   Cₑ⋅α⋅d⋅w           ⎝    4⋅n ⎠   Cₑ⋅α⋅w   ⎛     w  ⎞  \n─ - ────────────────── - ───────── + ───────────────── + ────── + ⎜1 - ────⎟  \n8           2  4                4               4             4   ⎜       2⎟  \n         2⋅β ⋅n            2⋅β⋅n           4⋅β⋅n         4⋅β⋅n    ⎝    4⋅n ⎠  \n\n                                                                              \n           2                                                                  \n          ⎞                                      ⎛                            \n          ⎟                                      ⎜                          Cₑ\n          ⎟    ⎛      2                        ⎞ ⎜    2  3  2     2  2  2     \n       w  ⎟    ⎜9⋅Cₑ⋅α ⋅w   9⋅Cₑ⋅α⋅w        9⋅w⎟ ⎜  Cₑ ⋅α ⋅w    Cₑ ⋅α ⋅w      \n+ 2 - ────⎟  + ⎜───────── - ──────── - 54 + ───⎟⋅⎜- ───────── - ───────── - ──\n         2⎟    ⎜    2  4          4           2⎟ ⎜       3  8        2  8     \n      2⋅n ⎠    ⎝ 2⋅β ⋅n      2⋅β⋅n           n ⎠ ⎝   16⋅β ⋅n     16⋅β ⋅n      \n\n                                                                              \n                                                                              \n  2   ⎛     w  ⎞                      ⎛     w  ⎞                              \n⋅α ⋅w⋅⎜1 - ────⎟               Cₑ⋅α⋅w⋅⎜1 - ────⎟                              \n      ⎜       2⎟           2          ⎜       2⎟                      2       \n      ⎝    4⋅n ⎠   Cₑ⋅α⋅d⋅w           ⎝    4⋅n ⎠   Cₑ⋅α⋅w   ⎛     w  ⎞        \n──────────────── - ───────── + ───────────────── + ────── + ⎜1 - ────⎟  + 2 - \n      2  4                4               4             4   ⎜       2⎟        \n   2⋅β ⋅n            2⋅β⋅n           4⋅β⋅n         4⋅β⋅n    ⎝    4⋅n ⎠        \n\n                                                                              \n      ⎛                                                                       \n    ⎞ ⎜                                          2  3  2 ⎛     w  ⎞           \n    ⎟ ⎜                                        Cₑ ⋅α ⋅w ⋅⎜1 - ────⎟           \n    ⎟ ⎜    3  4  3     3  3  3     2  3    3             ⎜       2⎟     2  2  \n w  ⎟ ⎜  Cₑ ⋅α ⋅w    Cₑ ⋅α ⋅w    Cₑ ⋅α ⋅d⋅w              ⎝    4⋅n ⎠   Cₑ ⋅α ⋅w\n────⎟⋅⎜- ───────── - ───────── - ─────────── + ──────────────────── + ────────\n   2⎟ ⎜      4  12       3  12        3  8               3  8              2  \n2⋅n ⎠ ⎝  64⋅β ⋅n     64⋅β ⋅n       8⋅β ⋅n            16⋅β ⋅n           16⋅β ⋅n\n\n                                                                              \n                      2                                              ⎞        \n        2   ⎛     w  ⎞                       ⎛     w  ⎞              ⎟     ⎛  \n    Cₑ⋅α ⋅w⋅⎜1 - ────⎟                Cₑ⋅α⋅w⋅⎜1 - ────⎟              ⎟     ⎜  \n2           ⎜       2⎟            2          ⎜       2⎟             2⎟     ⎜  \n            ⎝    4⋅n ⎠    Cₑ⋅α⋅d⋅w           ⎝    4⋅n ⎠   ⎛     w  ⎞ ⎟     ⎜  \n─ + ─────────────────── + ───────── - ───────────────── - ⎜1 - ────⎟ ⎟ - 4⋅⎜- \n8            2  4                4               4        ⎜       2⎟ ⎟     ⎜  \n          4⋅β ⋅n            2⋅β⋅n           4⋅β⋅n         ⎝    4⋅n ⎠ ⎠     ⎝  \n\n                                                                              \n                                                                              \n                            2   ⎛     w  ⎞                      ⎛     w  ⎞    \n                        Cₑ⋅α ⋅w⋅⎜1 - ────⎟               Cₑ⋅α⋅w⋅⎜1 - ────⎟    \n  2  3  2     2  2  2           ⎜       2⎟           2          ⎜       2⎟    \nCₑ ⋅α ⋅w    Cₑ ⋅α ⋅w            ⎝    4⋅n ⎠   Cₑ⋅α⋅d⋅w           ⎝    4⋅n ⎠   C\n───────── - ───────── - ────────────────── - ───────── + ───────────────── + ─\n     3  8        2  8           2  4                4               4         \n 16⋅β ⋅n     16⋅β ⋅n         2⋅β ⋅n            2⋅β⋅n           4⋅β⋅n         4\n\n                                                                              \n                               3      ⎛                                       \n                              ⎞       ⎜                                       \n                              ⎟       ⎜                                       \n                  2           ⎟       ⎜    3  4  3     3  3  3     2  3    3  \nₑ⋅α⋅w   ⎛     w  ⎞         w  ⎟       ⎜  Cₑ ⋅α ⋅w    Cₑ ⋅α ⋅w    Cₑ ⋅α ⋅d⋅w   \n───── + ⎜1 - ────⎟  + 2 - ────⎟  - 27⋅⎜- ───────── - ───────── - ─────────── +\n    4   ⎜       2⎟           2⎟       ⎜      4  12       3  12        3  8    \n⋅β⋅n    ⎝    4⋅n ⎠        2⋅n ⎠       ⎝  64⋅β ⋅n     64⋅β ⋅n       8⋅β ⋅n     \n\n                                                                              \n                                                      2                       \n   2  3  2 ⎛     w  ⎞                   2   ⎛     w  ⎞                       ⎛\n Cₑ ⋅α ⋅w ⋅⎜1 - ────⎟               Cₑ⋅α ⋅w⋅⎜1 - ────⎟                Cₑ⋅α⋅w⋅⎜\n           ⎜       2⎟     2  2  2           ⎜       2⎟            2          ⎜\n           ⎝    4⋅n ⎠   Cₑ ⋅α ⋅w            ⎝    4⋅n ⎠    Cₑ⋅α⋅d⋅w           ⎝\n ──────────────────── + ───────── + ─────────────────── + ───────── - ────────\n           3  8              2  8            2  4                4            \n       16⋅β ⋅n           16⋅β ⋅n          4⋅β ⋅n            2⋅β⋅n           4⋅\n\n                        2\n                       ⎞ \n     w  ⎞              ⎟ \n1 - ────⎟              ⎟ \n       2⎟             2⎟ \n    4⋅n ⎠   ⎛     w  ⎞ ⎟ \n───────── - ⎜1 - ────⎟ ⎟ \n   4        ⎜       2⎟ ⎟ \nβ⋅n         ⎝    4⋅n ⎠ ⎠ "
      ]
     },
     "metadata": {},
     "output_type": "display_data"
    }
   ],
   "source": [
    "D_1"
   ]
  },
  {
   "cell_type": "code",
   "execution_count": 89,
   "metadata": {
    "collapsed": true
   },
   "outputs": [
    {
     "data": {
      "text/latex": [
       "$$\\frac{5 C_{e}^{6} \\alpha^{10} w^{6}}{4096 \\beta^{10} n^{24}} + \\frac{7 C_{e}^{6} \\alpha^{9} w^{6}}{2048 \\beta^{9} n^{24}} + \\frac{C_{e}^{6} \\alpha^{8} w^{6}}{4096 \\beta^{8} n^{24}} - \\frac{13 C_{e}^{6} \\alpha^{7} w^{6}}{1024 \\beta^{7} n^{24}} - \\frac{11 C_{e}^{6} \\alpha^{6} w^{6}}{1024 \\beta^{6} n^{24}} + \\frac{C_{e}^{5} \\alpha^{9} d w^{6}}{128 \\beta^{9} n^{20}} + \\frac{C_{e}^{5} \\alpha^{8} d w^{6}}{64 \\beta^{8} n^{20}} - \\frac{5 C_{e}^{5} \\alpha^{8} w^{6}}{1024 \\beta^{8} n^{22}} - \\frac{7 C_{e}^{5} \\alpha^{7} d w^{6}}{256 \\beta^{7} n^{20}} - \\frac{21 C_{e}^{5} \\alpha^{7} w^{6}}{2048 \\beta^{7} n^{22}} - \\frac{27 C_{e}^{5} \\alpha^{6} d w^{6}}{256 \\beta^{6} n^{20}} - \\frac{C_{e}^{5} \\alpha^{6} w^{6}}{2048 \\beta^{6} n^{22}} - \\frac{C_{e}^{5} \\alpha^{5} d w^{6}}{128 \\beta^{5} n^{20}} + \\frac{13 C_{e}^{5} \\alpha^{5} w^{6}}{1024 \\beta^{5} n^{22}} - \\frac{C_{e}^{4} \\alpha^{7} d w^{6}}{32 \\beta^{7} n^{18}} - \\frac{C_{e}^{4} \\alpha^{6} d^{2} w^{6}}{8 \\beta^{6} n^{16}} - \\frac{3 C_{e}^{4} \\alpha^{6} d w^{6}}{64 \\beta^{6} n^{18}} + \\frac{15 C_{e}^{4} \\alpha^{6} w^{6}}{2048 \\beta^{6} n^{20}} - \\frac{C_{e}^{4} \\alpha^{5} d^{2} w^{6}}{8 \\beta^{5} n^{16}} + \\frac{7 C_{e}^{4} \\alpha^{5} d w^{6}}{128 \\beta^{5} n^{18}} + \\frac{21 C_{e}^{4} \\alpha^{5} w^{6}}{2048 \\beta^{5} n^{20}} + \\frac{13 C_{e}^{4} \\alpha^{4} d^{2} w^{6}}{64 \\beta^{4} n^{16}} + \\frac{27 C_{e}^{4} \\alpha^{4} d w^{6}}{256 \\beta^{4} n^{18}} + \\frac{C_{e}^{4} \\alpha^{4} w^{6}}{4096 \\beta^{4} n^{20}} + \\frac{3 C_{e}^{3} \\alpha^{5} d w^{6}}{64 \\beta^{5} n^{16}} + \\frac{C_{e}^{3} \\alpha^{4} d^{2} w^{6}}{4 \\beta^{4} n^{14}} + \\frac{3 C_{e}^{3} \\alpha^{4} d w^{6}}{64 \\beta^{4} n^{16}} - \\frac{5 C_{e}^{3} \\alpha^{4} w^{6}}{1024 \\beta^{4} n^{18}} + \\frac{C_{e}^{3} \\alpha^{3} d^{3} w^{6}}{2 \\beta^{3} n^{12}} + \\frac{C_{e}^{3} \\alpha^{3} d^{2} w^{6}}{8 \\beta^{3} n^{14}} - \\frac{7 C_{e}^{3} \\alpha^{3} d w^{6}}{256 \\beta^{3} n^{16}} - \\frac{7 C_{e}^{3} \\alpha^{3} w^{6}}{2048 \\beta^{3} n^{18}} - \\frac{C_{e}^{2} \\alpha^{3} d w^{6}}{32 \\beta^{3} n^{14}} - \\frac{C_{e}^{2} \\alpha^{2} d^{2} w^{6}}{8 \\beta^{2} n^{12}} - \\frac{C_{e}^{2} \\alpha^{2} d w^{6}}{64 \\beta^{2} n^{14}} + \\frac{5 C_{e}^{2} \\alpha^{2} w^{6}}{4096 \\beta^{2} n^{16}} + \\frac{C_{e} \\alpha d w^{6}}{128 \\beta n^{12}}$$"
      ],
      "text/plain": [
       "    6  10  6       6  9  6      6  8  6         6  7  6        6  6  6     5  \n5⋅Cₑ ⋅α  ⋅w    7⋅Cₑ ⋅α ⋅w     Cₑ ⋅α ⋅w     13⋅Cₑ ⋅α ⋅w    11⋅Cₑ ⋅α ⋅w    Cₑ ⋅α\n──────────── + ─────────── + ─────────── - ──────────── - ──────────── + ─────\n      10  24         9  24         8  24         7  24          6  24         \n4096⋅β  ⋅n     2048⋅β ⋅n     4096⋅β ⋅n     1024⋅β ⋅n      1024⋅β ⋅n       128⋅\n\n9    6     5  8    6       5  8  6       5  7    6        5  7  6        5  6 \n ⋅d⋅w    Cₑ ⋅α ⋅d⋅w    5⋅Cₑ ⋅α ⋅w    7⋅Cₑ ⋅α ⋅d⋅w    21⋅Cₑ ⋅α ⋅w    27⋅Cₑ ⋅α ⋅\n────── + ─────────── - ─────────── - ───────────── - ──────────── - ──────────\n 9  20        8  20          8  22          7  20          7  22           6  \nβ ⋅n      64⋅β ⋅n      1024⋅β ⋅n       256⋅β ⋅n      2048⋅β ⋅n        256⋅β ⋅n\n\n   6      5  6  6      5  5    6        5  5  6     4  7    6     4  6  2  6  \nd⋅w     Cₑ ⋅α ⋅w     Cₑ ⋅α ⋅d⋅w    13⋅Cₑ ⋅α ⋅w    Cₑ ⋅α ⋅d⋅w    Cₑ ⋅α ⋅d ⋅w   \n──── - ─────────── - ─────────── + ──────────── - ─────────── - ──────────── -\n20           6  22         5  20         5  22         7  18         6  16    \n       2048⋅β ⋅n      128⋅β ⋅n     1024⋅β ⋅n       32⋅β ⋅n        8⋅β ⋅n      \n\n     4  6    6        4  6  6     4  5  2  6       4  5    6        4  5  6   \n 3⋅Cₑ ⋅α ⋅d⋅w    15⋅Cₑ ⋅α ⋅w    Cₑ ⋅α ⋅d ⋅w    7⋅Cₑ ⋅α ⋅d⋅w    21⋅Cₑ ⋅α ⋅w    \n ───────────── + ──────────── - ──────────── + ───────────── + ──────────── + \n       6  18           6  20         5  16            5  18          5  20    \n   64⋅β ⋅n       2048⋅β ⋅n        8⋅β ⋅n         128⋅β ⋅n      2048⋅β ⋅n      \n\n     4  4  2  6        4  4    6      4  4  6        3  5    6     3  4  2  6 \n13⋅Cₑ ⋅α ⋅d ⋅w    27⋅Cₑ ⋅α ⋅d⋅w     Cₑ ⋅α ⋅w     3⋅Cₑ ⋅α ⋅d⋅w    Cₑ ⋅α ⋅d ⋅w  \n─────────────── + ────────────── + ─────────── + ───────────── + ──────────── \n       4  16             4  18           4  20         5  16          4  14   \n   64⋅β ⋅n          256⋅β ⋅n       4096⋅β ⋅n       64⋅β ⋅n         4⋅β ⋅n     \n\n      3  4    6       3  4  6     3  3  3  6     3  3  2  6       3  3    6   \n  3⋅Cₑ ⋅α ⋅d⋅w    5⋅Cₑ ⋅α ⋅w    Cₑ ⋅α ⋅d ⋅w    Cₑ ⋅α ⋅d ⋅w    7⋅Cₑ ⋅α ⋅d⋅w    \n+ ───────────── - ─────────── + ──────────── + ──────────── - ───────────── - \n        4  16           4  18        3  12          3  14            3  16    \n    64⋅β ⋅n       1024⋅β ⋅n       2⋅β ⋅n         8⋅β ⋅n         256⋅β ⋅n      \n\n    3  3  6     2  3    6     2  2  2  6     2  2    6       2  2  6          \n7⋅Cₑ ⋅α ⋅w    Cₑ ⋅α ⋅d⋅w    Cₑ ⋅α ⋅d ⋅w    Cₑ ⋅α ⋅d⋅w    5⋅Cₑ ⋅α ⋅w    Cₑ⋅α⋅d⋅\n─────────── - ─────────── - ──────────── - ─────────── + ─────────── + ───────\n      3  18        3  14         2  12          2  14          2  16          \n2048⋅β ⋅n      32⋅β ⋅n        8⋅β ⋅n        64⋅β ⋅n      4096⋅β ⋅n     128⋅β⋅n\n\n 6\nw \n──\n12\n  "
      ]
     },
     "metadata": {},
     "output_type": "display_data"
    }
   ],
   "source": [
    "sympify(expand(D_1))"
   ]
  },
  {
   "cell_type": "code",
   "execution_count": 70,
   "metadata": {},
   "outputs": [],
   "source": [
    "D_sol = solve(D_1,w)"
   ]
  },
  {
   "cell_type": "code",
   "execution_count": 68,
   "metadata": {},
   "outputs": [
    {
     "data": {
      "text/latex": [
       "$$\\left [ 0\\right ]$$"
      ],
      "text/plain": [
       "[0]"
      ]
     },
     "metadata": {},
     "output_type": "display_data"
    }
   ],
   "source": [
    "D_sol"
   ]
  },
  {
   "cell_type": "code",
   "execution_count": 90,
   "metadata": {},
   "outputs": [
    {
     "name": "stdout",
     "output_type": "stream",
     "text": [
      "-4*(C_e*alpha**2*w/(4*beta**2*n**4) - C_e*alpha*w/(4*beta*n**4) - 3 + w/(2*n**2))**3*(-C_e**3*alpha**4*w**3/(64*beta**4*n**12) - C_e**3*alpha**3*w**3/(64*beta**3*n**12) - C_e**2*alpha**3*d*w**3/(8*beta**3*n**8) + C_e**2*alpha**3*w**2*(1 - w/(4*n**2))/(16*beta**3*n**8) + C_e**2*alpha**2*w**2/(16*beta**2*n**8) + C_e*alpha**2*w*(1 - w/(4*n**2))**2/(4*beta**2*n**4) + C_e*alpha*d*w**2/(2*beta*n**4) - C_e*alpha*w*(1 - w/(4*n**2))/(4*beta*n**4) - (1 - w/(4*n**2))**2) + (C_e*alpha**2*w/(4*beta**2*n**4) - C_e*alpha*w/(4*beta*n**4) - 3 + w/(2*n**2))**2*(-C_e**2*alpha**3*w**2/(16*beta**3*n**8) - C_e**2*alpha**2*w**2/(16*beta**2*n**8) - C_e*alpha**2*w*(1 - w/(4*n**2))/(2*beta**2*n**4) - C_e*alpha*d*w**2/(2*beta*n**4) + C_e*alpha*w*(1 - w/(4*n**2))/(4*beta*n**4) + C_e*alpha*w/(4*beta*n**4) + (1 - w/(4*n**2))**2 + 2 - w/(2*n**2))**2 + (9*C_e*alpha**2*w/(2*beta**2*n**4) - 9*C_e*alpha*w/(2*beta*n**4) - 54 + 9*w/n**2)*(-C_e**2*alpha**3*w**2/(16*beta**3*n**8) - C_e**2*alpha**2*w**2/(16*beta**2*n**8) - C_e*alpha**2*w*(1 - w/(4*n**2))/(2*beta**2*n**4) - C_e*alpha*d*w**2/(2*beta*n**4) + C_e*alpha*w*(1 - w/(4*n**2))/(4*beta*n**4) + C_e*alpha*w/(4*beta*n**4) + (1 - w/(4*n**2))**2 + 2 - w/(2*n**2))*(-C_e**3*alpha**4*w**3/(64*beta**4*n**12) - C_e**3*alpha**3*w**3/(64*beta**3*n**12) - C_e**2*alpha**3*d*w**3/(8*beta**3*n**8) + C_e**2*alpha**3*w**2*(1 - w/(4*n**2))/(16*beta**3*n**8) + C_e**2*alpha**2*w**2/(16*beta**2*n**8) + C_e*alpha**2*w*(1 - w/(4*n**2))**2/(4*beta**2*n**4) + C_e*alpha*d*w**2/(2*beta*n**4) - C_e*alpha*w*(1 - w/(4*n**2))/(4*beta*n**4) - (1 - w/(4*n**2))**2) - 4*(-C_e**2*alpha**3*w**2/(16*beta**3*n**8) - C_e**2*alpha**2*w**2/(16*beta**2*n**8) - C_e*alpha**2*w*(1 - w/(4*n**2))/(2*beta**2*n**4) - C_e*alpha*d*w**2/(2*beta*n**4) + C_e*alpha*w*(1 - w/(4*n**2))/(4*beta*n**4) + C_e*alpha*w/(4*beta*n**4) + (1 - w/(4*n**2))**2 + 2 - w/(2*n**2))**3 - 27*(-C_e**3*alpha**4*w**3/(64*beta**4*n**12) - C_e**3*alpha**3*w**3/(64*beta**3*n**12) - C_e**2*alpha**3*d*w**3/(8*beta**3*n**8) + C_e**2*alpha**3*w**2*(1 - w/(4*n**2))/(16*beta**3*n**8) + C_e**2*alpha**2*w**2/(16*beta**2*n**8) + C_e*alpha**2*w*(1 - w/(4*n**2))**2/(4*beta**2*n**4) + C_e*alpha*d*w**2/(2*beta*n**4) - C_e*alpha*w*(1 - w/(4*n**2))/(4*beta*n**4) - (1 - w/(4*n**2))**2)**2\n"
     ]
    }
   ],
   "source": [
    "print(D_1)"
   ]
  },
  {
   "cell_type": "code",
   "execution_count": null,
   "metadata": {},
   "outputs": [],
   "source": []
  }
 ],
 "metadata": {
  "kernelspec": {
   "display_name": "Python 2",
   "language": "python",
   "name": "python2"
  },
  "language_info": {
   "codemirror_mode": {
    "name": "ipython",
    "version": 2
   },
   "file_extension": ".py",
   "mimetype": "text/x-python",
   "name": "python",
   "nbconvert_exporter": "python",
   "pygments_lexer": "ipython2",
   "version": "2.7.6"
  }
 },
 "nbformat": 4,
 "nbformat_minor": 0
}
